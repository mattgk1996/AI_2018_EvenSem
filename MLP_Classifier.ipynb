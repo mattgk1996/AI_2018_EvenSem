{
 "cells": [
  {
   "cell_type": "code",
   "execution_count": 1,
   "metadata": {
    "collapsed": true
   },
   "outputs": [],
   "source": [
    "#Keras Model"
   ]
  },
  {
   "cell_type": "code",
   "execution_count": 51,
   "metadata": {},
   "outputs": [],
   "source": [
    "from keras.datasets import mnist\n",
    "from keras.models import load_model,Model\n",
    "from keras.layers import Dense,Input,Activation\n",
    "from keras.utils import plot_model\n",
    "from keras.utils.np_utils import to_categorical\n",
    "from keras.callbacks import TensorBoard,ModelCheckpoint\n",
    "\n",
    "import matplotlib.pyplot as plt\n"
   ]
  },
  {
   "cell_type": "code",
   "execution_count": 40,
   "metadata": {},
   "outputs": [],
   "source": [
    "#Loading the data\n",
    "(x_train, y_train), (x_test, y_test) = mnist.load_data()\n",
    "NUM_CLASSES = 10\n",
    "NUM_TUPLES = x_train.shape[0]"
   ]
  },
  {
   "cell_type": "code",
   "execution_count": 41,
   "metadata": {},
   "outputs": [
    {
     "data": {
      "text/plain": [
       "5"
      ]
     },
     "execution_count": 41,
     "metadata": {},
     "output_type": "execute_result"
    }
   ],
   "source": [
    "y_train[0]"
   ]
  },
  {
   "cell_type": "code",
   "execution_count": 42,
   "metadata": {
    "collapsed": true
   },
   "outputs": [],
   "source": [
    "#Preprocessing Steps\n",
    "\n",
    "#Reshaping images into single dimension arrays\n",
    "x_train = x_train.reshape(x_train.shape[0], 784).astype('float32')\n",
    "x_test = x_test.reshape(x_test.shape[0], 784).astype('float32')\n",
    "\n",
    "#Normalising the data\n",
    "x_train /= 255.\n",
    "x_test /= 255.\n",
    "\n",
    "#Converting labels to categorical datastructure\n",
    "y_train = to_categorical(y_train,NUM_CLASSES)\n",
    "y_test = to_categorical(y_test,NUM_CLASSES)\n",
    "\n",
    "#Splitting training set into validation set\n",
    "train_size = int(NUM_TUPLES*0.85)\n",
    "x_validation = x_train[train_size:]\n",
    "y_validation = y_train[train_size:]\n",
    "x_train = x_train[0:train_size]\n",
    "y_train = y_train[0:train_size]"
   ]
  },
  {
   "cell_type": "code",
   "execution_count": 43,
   "metadata": {},
   "outputs": [
    {
     "data": {
      "text/plain": [
       "array([ 0.,  0.,  0.,  0.,  0.,  1.,  0.,  0.,  0.,  0.])"
      ]
     },
     "execution_count": 43,
     "metadata": {},
     "output_type": "execute_result"
    }
   ],
   "source": [
    "y_train[0]"
   ]
  },
  {
   "cell_type": "code",
   "execution_count": 44,
   "metadata": {
    "collapsed": true
   },
   "outputs": [],
   "source": [
    "def MNN_Classifier():\n",
    "    \n",
    "    input_layer = Input(shape=(784,))\n",
    "    \n",
    "    i1 = Dense(64,activation='relu')(input_layer)\n",
    "    #hl1 = Dense(64,activation='relu')(il)\n",
    "\n",
    "    \n",
    "    ol = Dense(10,activation='softmax')(i1)\n",
    "    \n",
    "    classifier = Model(inputs=input_layer,outputs=ol)\n",
    "    \n",
    "    classifier.compile(optimizer='adam',loss='categorical_crossentropy',metrics = ['accuracy'])\n",
    "    \n",
    "    return classifier\n",
    "    "
   ]
  },
  {
   "cell_type": "code",
   "execution_count": 45,
   "metadata": {},
   "outputs": [
    {
     "name": "stdout",
     "output_type": "stream",
     "text": [
      "_________________________________________________________________\n",
      "Layer (type)                 Output Shape              Param #   \n",
      "=================================================================\n",
      "input_5 (InputLayer)         (None, 784)               0         \n",
      "_________________________________________________________________\n",
      "dense_11 (Dense)             (None, 64)                50240     \n",
      "_________________________________________________________________\n",
      "dense_12 (Dense)             (None, 10)                650       \n",
      "=================================================================\n",
      "Total params: 50,890\n",
      "Trainable params: 50,890\n",
      "Non-trainable params: 0\n",
      "_________________________________________________________________\n"
     ]
    }
   ],
   "source": [
    "mnist_classifier = MNN_Classifier()\n",
    "mnist_classifier.summary()"
   ]
  },
  {
   "cell_type": "code",
   "execution_count": 46,
   "metadata": {
    "scrolled": true
   },
   "outputs": [
    {
     "name": "stdout",
     "output_type": "stream",
     "text": [
      "Train on 51000 samples, validate on 9000 samples\n",
      "Epoch 1/10\n",
      "51000/51000 [==============================] - 7s 137us/step - loss: 0.3478 - acc: 0.9006 - val_loss: 0.1901 - val_acc: 0.9429\n",
      "Epoch 2/10\n",
      "51000/51000 [==============================] - 7s 135us/step - loss: 0.1730 - acc: 0.9495 - val_loss: 0.1436 - val_acc: 0.9581\n",
      "Epoch 3/10\n",
      "51000/51000 [==============================] - 7s 129us/step - loss: 0.1286 - acc: 0.9628 - val_loss: 0.1145 - val_acc: 0.9670\n",
      "Epoch 4/10\n",
      "51000/51000 [==============================] - 7s 129us/step - loss: 0.1003 - acc: 0.9702 - val_loss: 0.1141 - val_acc: 0.9672\n",
      "Epoch 5/10\n",
      "51000/51000 [==============================] - 6s 123us/step - loss: 0.0804 - acc: 0.9760 - val_loss: 0.1020 - val_acc: 0.9708\n",
      "Epoch 6/10\n",
      "51000/51000 [==============================] - 6s 123us/step - loss: 0.0678 - acc: 0.9804 - val_loss: 0.0895 - val_acc: 0.9723\n",
      "Epoch 7/10\n",
      "51000/51000 [==============================] - 7s 130us/step - loss: 0.0566 - acc: 0.9832 - val_loss: 0.0912 - val_acc: 0.9739\n",
      "Epoch 8/10\n",
      "51000/51000 [==============================] - 7s 130us/step - loss: 0.0492 - acc: 0.9849 - val_loss: 0.0898 - val_acc: 0.9738\n",
      "Epoch 9/10\n",
      "51000/51000 [==============================] - 7s 129us/step - loss: 0.0411 - acc: 0.9873 - val_loss: 0.0923 - val_acc: 0.9733\n",
      "Epoch 10/10\n",
      "51000/51000 [==============================] - 7s 138us/step - loss: 0.0352 - acc: 0.9894 - val_loss: 0.0987 - val_acc: 0.9730\n"
     ]
    }
   ],
   "source": [
    "train_history = mnist_classifier.fit(x_train,y_train,batch_size=32,epochs = 10,verbose=True,shuffle=True,\n",
    "                                     validation_data = (x_validation,y_validation))"
   ]
  },
  {
   "cell_type": "code",
   "execution_count": 47,
   "metadata": {},
   "outputs": [
    {
     "name": "stdout",
     "output_type": "stream",
     "text": [
      "Help on function plot_model in module keras.utils.vis_utils:\n",
      "\n",
      "plot_model(model, to_file='model.png', show_shapes=False, show_layer_names=True, rankdir='TB')\n",
      "    Converts a Keras model to dot format and save to a file.\n",
      "    \n",
      "    # Arguments\n",
      "        model: A Keras model instance\n",
      "        to_file: File name of the plot image.\n",
      "        show_shapes: whether to display shape information.\n",
      "        show_layer_names: whether to display layer names.\n",
      "        rankdir: `rankdir` argument passed to PyDot,\n",
      "            a string specifying the format of the plot:\n",
      "            'TB' creates a vertical plot;\n",
      "            'LR' creates a horizontal plot.\n",
      "\n"
     ]
    }
   ],
   "source": [
    "help(plot_model)"
   ]
  },
  {
   "cell_type": "code",
   "execution_count": 23,
   "metadata": {},
   "outputs": [
    {
     "name": "stdout",
     "output_type": "stream",
     "text": [
      "Testing Accuracy 97.46\n"
     ]
    }
   ],
   "source": [
    "print \"Testing Accuracy \" + str(test_losses[1]*100)"
   ]
  },
  {
   "cell_type": "code",
   "execution_count": 30,
   "metadata": {},
   "outputs": [
    {
     "data": {
      "image/png": "[encoded data removed]",
      "text/plain": [
       "<matplotlib.figure.Figure at 0x12a076050>"
      ]
     },
     "metadata": {},
     "output_type": "display_data"
    },
    {
     "data": {
      "image/png": "[encoded data removed]",
      "text/plain": [
       "<matplotlib.figure.Figure at 0x13237dd90>"
      ]
     },
     "metadata": {},
     "output_type": "display_data"
    }
   ],
   "source": [
    "plt.plot(train_history.history['acc'])\n",
    "plt.plot(train_history.history['val_acc'])\n",
    "plt.title('model accuracy')\n",
    "plt.ylabel('accuracy')\n",
    "plt.xlabel('epoch')\n",
    "plt.legend(['train', 'validation'], loc='upper left')\n",
    "plt.show()\n",
    "\n",
    "\n",
    "plt.plot(train_history.history['loss'])\n",
    "plt.plot(train_history.history['val_loss'])\n",
    "plt.title('model loss')\n",
    "plt.ylabel('loss')\n",
    "plt.xlabel('epoch')\n",
    "plt.legend(['train', 'validation'], loc='upper left')\n",
    "plt.show()"
   ]
  },
  {
   "cell_type": "code",
   "execution_count": null,
   "metadata": {
    "collapsed": true
   },
   "outputs": [],
   "source": []
  }
 ],
 "metadata": {
  "kernelspec": {
   "display_name": "Python 2",
   "language": "python",
   "name": "python2"
  },
  "language_info": {
   "codemirror_mode": {
    "name": "ipython",
    "version": 2
   },
   "file_extension": ".py",
   "mimetype": "text/x-python",
   "name": "python",
   "nbconvert_exporter": "python",
   "pygments_lexer": "ipython2",
   "version": "2.7.14"
  }
 },
 "nbformat": 4,
 "nbformat_minor": 2
}
